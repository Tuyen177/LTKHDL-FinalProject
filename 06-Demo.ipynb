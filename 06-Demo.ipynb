{
 "cells": [
  {
   "cell_type": "markdown",
   "metadata": {},
   "source": [
    "Cập nhật lần cuối: 07/11/2021"
   ]
  },
  {
   "cell_type": "markdown",
   "metadata": {},
   "source": [
    "# Cú pháp của Regular Expression"
   ]
  },
  {
   "cell_type": "code",
   "execution_count": 1,
   "metadata": {},
   "outputs": [],
   "source": [
    "import re\n",
    "\n",
    "def show_regex_match(text, regex):\n",
    "    '''\n",
    "    Prints the string with the regex match highlighted.\n",
    "    \n",
    "    This function is modified from this source:\n",
    "    https://www.textbook.ds100.org/ch/12/text_regex.html\n",
    "    '''\n",
    "    result = re.sub(f'({regex})', r'\\033[1;30;43m\\1\\033[m', text)\n",
    "    result = result.replace('\\n', '\\\\n') # Make \\n visible\n",
    "    print(result)"
   ]
  },
  {
   "cell_type": "markdown",
   "metadata": {},
   "source": [
    "## Literal"
   ]
  },
  {
   "cell_type": "code",
   "execution_count": 2,
   "metadata": {
    "scrolled": true
   },
   "outputs": [
    {
     "name": "stdout",
     "output_type": "stream",
     "text": [
      "Nam có \u001b[1;30;43memail\u001b[m là nam123@gmail.com và có phone là 382-384-3840.\\nHoa có \u001b[1;30;43memail\u001b[m là hoa456@yahoo.com và có phone là 382-384-4000.\n"
     ]
    }
   ],
   "source": [
    "text = '''\n",
    "Nam có email là nam123@gmail.com và có phone là 382-384-3840.\n",
    "Hoa có email là hoa456@yahoo.com và có phone là 382-384-4000.\n",
    "'''.strip()\n",
    "regex = r'email'\n",
    "show_regex_match(text, regex)"
   ]
  },
  {
   "cell_type": "code",
   "execution_count": 3,
   "metadata": {},
   "outputs": [
    {
     "name": "stdout",
     "output_type": "stream",
     "text": [
      "\t123\n"
     ]
    }
   ],
   "source": [
    "s = '\\t123'\n",
    "print(s)"
   ]
  },
  {
   "cell_type": "code",
   "execution_count": 4,
   "metadata": {},
   "outputs": [
    {
     "name": "stdout",
     "output_type": "stream",
     "text": [
      "\\t123\n"
     ]
    }
   ],
   "source": [
    "# Raw string\n",
    "s = r'\\t123'\n",
    "print(s)"
   ]
  },
  {
   "cell_type": "code",
   "execution_count": 5,
   "metadata": {},
   "outputs": [
    {
     "name": "stdout",
     "output_type": "stream",
     "text": [
      "Nam có email là \u001b[1;30;43mn\u001b[mam123@gmail.com và có pho\u001b[1;30;43mn\u001b[me là 382-384-3840.\\nHoa có email là hoa456@yahoo.com và có pho\u001b[1;30;43mn\u001b[me là 382-384-4000.\n"
     ]
    }
   ],
   "source": [
    "# Regex phân biệt viết hoa và viết thường\n",
    "text = '''\n",
    "Nam có email là nam123@gmail.com và có phone là 382-384-3840.\n",
    "Hoa có email là hoa456@yahoo.com và có phone là 382-384-4000.\n",
    "'''.strip()\n",
    "regex = r'n'\n",
    "show_regex_match(text, regex)"
   ]
  },
  {
   "cell_type": "markdown",
   "metadata": {},
   "source": [
    "## Character set"
   ]
  },
  {
   "cell_type": "code",
   "execution_count": 6,
   "metadata": {},
   "outputs": [
    {
     "name": "stdout",
     "output_type": "stream",
     "text": [
      "N\u001b[1;30;43ma\u001b[mm \u001b[1;30;43mc\u001b[mó em\u001b[1;30;43ma\u001b[mil là n\u001b[1;30;43ma\u001b[mm\u001b[1;30;43m1\u001b[m\u001b[1;30;43m2\u001b[m\u001b[1;30;43m3\u001b[m@gm\u001b[1;30;43ma\u001b[mil\u001b[1;30;43m.\u001b[m\u001b[1;30;43mc\u001b[mom và \u001b[1;30;43mc\u001b[mó phone là \u001b[1;30;43m3\u001b[m8\u001b[1;30;43m2\u001b[m-\u001b[1;30;43m3\u001b[m84-\u001b[1;30;43m3\u001b[m840\u001b[1;30;43m.\u001b[m\\nHo\u001b[1;30;43ma\u001b[m \u001b[1;30;43mc\u001b[mó em\u001b[1;30;43ma\u001b[mil là ho\u001b[1;30;43ma\u001b[m456@y\u001b[1;30;43ma\u001b[mhoo\u001b[1;30;43m.\u001b[m\u001b[1;30;43mc\u001b[mom và \u001b[1;30;43mc\u001b[mó phone là \u001b[1;30;43m3\u001b[m8\u001b[1;30;43m2\u001b[m-\u001b[1;30;43m3\u001b[m84-4000\u001b[1;30;43m.\u001b[m\n"
     ]
    }
   ],
   "source": [
    "text = '''\n",
    "Nam có email là nam123@gmail.com và có phone là 382-384-3840.\n",
    "Hoa có email là hoa456@yahoo.com và có phone là 382-384-4000.\n",
    "'''.strip()\n",
    "# Viết regex ứng với chuỗi gồm 1 ký tự trong tập gồm 5 ký tự: \n",
    "# 1, 2, 3, a, b, c, .\n",
    "regex = r'[123abc.]'\n",
    "show_regex_match(text, regex)"
   ]
  },
  {
   "cell_type": "code",
   "execution_count": 7,
   "metadata": {},
   "outputs": [
    {
     "name": "stdout",
     "output_type": "stream",
     "text": [
      "Nam có email là nam123@gmail.com và có phone là \u001b[1;30;43m382-384-3840\u001b[m.\\nHoa có email là hoa456@yahoo.com và có phone là \u001b[1;30;43m382-384-4000\u001b[m.\n"
     ]
    }
   ],
   "source": [
    "text = '''\n",
    "Nam có email là nam123@gmail.com và có phone là 382-384-3840.\n",
    "Hoa có email là hoa456@yahoo.com và có phone là 382-384-4000.\n",
    "'''.strip()\n",
    "# Dùng cú pháp [] để viết regex ứng với các US phone\n",
    "regex = r'[0123456789][0123456789][0123456789]-[0123456789][0123456789][0123456789]-[0123456789][0123456789][0123456789][0123456789]'\n",
    "show_regex_match(text, regex)"
   ]
  },
  {
   "cell_type": "code",
   "execution_count": 8,
   "metadata": {},
   "outputs": [
    {
     "name": "stdout",
     "output_type": "stream",
     "text": [
      "Nam có email là nam123@gmail.com và có phone là \u001b[1;30;43m382-384-3840\u001b[m.\\nHoa có email là hoa456@yahoo.com và có phone là \u001b[1;30;43m382-384-4000\u001b[m.\n"
     ]
    }
   ],
   "source": [
    "text = '''\n",
    "Nam có email là nam123@gmail.com và có phone là 382-384-3840.\n",
    "Hoa có email là hoa456@yahoo.com và có phone là 382-384-4000.\n",
    "'''.strip()\n",
    "# Dùng cú pháp [start-end] để viết regex ứng với các US phone\n",
    "regex = r'[0-9][0-9][0-9]-[0-9][0-9][0-9]-[0-9][0-9][0-9][0-9]'\n",
    "show_regex_match(text, regex)"
   ]
  },
  {
   "cell_type": "code",
   "execution_count": 9,
   "metadata": {},
   "outputs": [
    {
     "name": "stdout",
     "output_type": "stream",
     "text": [
      "\u001b[1;30;43mN\u001b[m\u001b[1;30;43ma\u001b[m\u001b[1;30;43mm\u001b[m\u001b[1;30;43m \u001b[m\u001b[1;30;43mc\u001b[m\u001b[1;30;43mó\u001b[m\u001b[1;30;43m \u001b[m\u001b[1;30;43me\u001b[m\u001b[1;30;43mm\u001b[m\u001b[1;30;43ma\u001b[m\u001b[1;30;43mi\u001b[m\u001b[1;30;43ml\u001b[m\u001b[1;30;43m \u001b[m\u001b[1;30;43ml\u001b[m\u001b[1;30;43mà\u001b[m\u001b[1;30;43m \u001b[m\u001b[1;30;43mn\u001b[m\u001b[1;30;43ma\u001b[m\u001b[1;30;43mm\u001b[m123\u001b[1;30;43m@\u001b[m\u001b[1;30;43mg\u001b[m\u001b[1;30;43mm\u001b[m\u001b[1;30;43ma\u001b[m\u001b[1;30;43mi\u001b[m\u001b[1;30;43ml\u001b[m\u001b[1;30;43m.\u001b[m\u001b[1;30;43mc\u001b[m\u001b[1;30;43mo\u001b[m\u001b[1;30;43mm\u001b[m\u001b[1;30;43m \u001b[m\u001b[1;30;43mv\u001b[m\u001b[1;30;43mà\u001b[m\u001b[1;30;43m \u001b[m\u001b[1;30;43mc\u001b[m\u001b[1;30;43mó\u001b[m\u001b[1;30;43m \u001b[m\u001b[1;30;43mp\u001b[m\u001b[1;30;43mh\u001b[m\u001b[1;30;43mo\u001b[m\u001b[1;30;43mn\u001b[m\u001b[1;30;43me\u001b[m\u001b[1;30;43m \u001b[m\u001b[1;30;43ml\u001b[m\u001b[1;30;43mà\u001b[m\u001b[1;30;43m \u001b[m382\u001b[1;30;43m-\u001b[m384\u001b[1;30;43m-\u001b[m3840\u001b[1;30;43m.\u001b[m\u001b[1;30;43m\\n\u001b[m\u001b[1;30;43mH\u001b[m\u001b[1;30;43mo\u001b[m\u001b[1;30;43ma\u001b[m\u001b[1;30;43m \u001b[m\u001b[1;30;43mc\u001b[m\u001b[1;30;43mó\u001b[m\u001b[1;30;43m \u001b[m\u001b[1;30;43me\u001b[m\u001b[1;30;43mm\u001b[m\u001b[1;30;43ma\u001b[m\u001b[1;30;43mi\u001b[m\u001b[1;30;43ml\u001b[m\u001b[1;30;43m \u001b[m\u001b[1;30;43ml\u001b[m\u001b[1;30;43mà\u001b[m\u001b[1;30;43m \u001b[m\u001b[1;30;43mh\u001b[m\u001b[1;30;43mo\u001b[m\u001b[1;30;43ma\u001b[m456\u001b[1;30;43m@\u001b[m\u001b[1;30;43my\u001b[m\u001b[1;30;43ma\u001b[m\u001b[1;30;43mh\u001b[m\u001b[1;30;43mo\u001b[m\u001b[1;30;43mo\u001b[m\u001b[1;30;43m.\u001b[m\u001b[1;30;43mc\u001b[m\u001b[1;30;43mo\u001b[m\u001b[1;30;43mm\u001b[m\u001b[1;30;43m \u001b[m\u001b[1;30;43mv\u001b[m\u001b[1;30;43mà\u001b[m\u001b[1;30;43m \u001b[m\u001b[1;30;43mc\u001b[m\u001b[1;30;43mó\u001b[m\u001b[1;30;43m \u001b[m\u001b[1;30;43mp\u001b[m\u001b[1;30;43mh\u001b[m\u001b[1;30;43mo\u001b[m\u001b[1;30;43mn\u001b[m\u001b[1;30;43me\u001b[m\u001b[1;30;43m \u001b[m\u001b[1;30;43ml\u001b[m\u001b[1;30;43mà\u001b[m\u001b[1;30;43m \u001b[m382\u001b[1;30;43m-\u001b[m384\u001b[1;30;43m-\u001b[m4000\u001b[1;30;43m.\u001b[m\n"
     ]
    }
   ],
   "source": [
    "text = '''\n",
    "Nam có email là nam123@gmail.com và có phone là 382-384-3840.\n",
    "Hoa có email là hoa456@yahoo.com và có phone là 382-384-4000.\n",
    "'''.strip()\n",
    "# Viết regex ứng với chuỗi gồm 1 ký tự mà không phải là số\n",
    "regex = r'[^0-9]'\n",
    "show_regex_match(text, regex)"
   ]
  },
  {
   "cell_type": "code",
   "execution_count": 10,
   "metadata": {},
   "outputs": [
    {
     "name": "stdout",
     "output_type": "stream",
     "text": [
      "Nam có email là nam123@gmail.com và có phone là 382\u001b[1;30;43m-\u001b[m384\u001b[1;30;43m-\u001b[m384\u001b[1;30;43m0\u001b[m.\\nHoa có email là hoa456@yahoo.com và có phone là 382\u001b[1;30;43m-\u001b[m384\u001b[1;30;43m-\u001b[m4\u001b[1;30;43m0\u001b[m\u001b[1;30;43m0\u001b[m\u001b[1;30;43m0\u001b[m.\n"
     ]
    }
   ],
   "source": [
    "text = '''\n",
    "Nam có email là nam123@gmail.com và có phone là 382-384-3840.\n",
    "Hoa có email là hoa456@yahoo.com và có phone là 382-384-4000.\n",
    "'''.strip()\n",
    "# Viết regex ứng với chuỗi gồm 1 ký tự trong tập gồm 4 ký tự: \n",
    "# ^, 0, -, 9\n",
    "regex = r'[\\^0\\-9]'\n",
    "# regex = r'[09^-]'\n",
    "show_regex_match(text, regex)"
   ]
  },
  {
   "cell_type": "code",
   "execution_count": 11,
   "metadata": {},
   "outputs": [
    {
     "name": "stdout",
     "output_type": "stream",
     "text": [
      "Nam có \u001b[1;30;43mema\u001b[mil là nam123@gmail.com và có phon\u001b[1;30;43me l\u001b[mà 382-384-3840.\\nHoa có \u001b[1;30;43mema\u001b[mil là hoa456@yahoo.com và có phon\u001b[1;30;43me l\u001b[mà 382-384-4000.\n"
     ]
    }
   ],
   "source": [
    "text = '''\n",
    "Nam có email là nam123@gmail.com và có phone là 382-384-3840.\n",
    "Hoa có email là hoa456@yahoo.com và có phone là 382-384-4000.\n",
    "'''.strip()\n",
    "# Viết regex ứng với chuỗi gồm 3 ký tự không phải là newline \n",
    "# và ký tự đầu là e\n",
    "regex = r'e..' \n",
    "show_regex_match(text, regex)"
   ]
  },
  {
   "cell_type": "code",
   "execution_count": 12,
   "metadata": {},
   "outputs": [
    {
     "name": "stdout",
     "output_type": "stream",
     "text": [
      "\u001b[1;30;43mN\u001b[m\u001b[1;30;43ma\u001b[m\u001b[1;30;43mm\u001b[m \u001b[1;30;43mc\u001b[mó \u001b[1;30;43me\u001b[m\u001b[1;30;43mm\u001b[m\u001b[1;30;43ma\u001b[m\u001b[1;30;43mi\u001b[m\u001b[1;30;43ml\u001b[m \u001b[1;30;43ml\u001b[mà \u001b[1;30;43mn\u001b[m\u001b[1;30;43ma\u001b[m\u001b[1;30;43mm\u001b[m\u001b[1;30;43m1\u001b[m\u001b[1;30;43m2\u001b[m\u001b[1;30;43m3\u001b[m@\u001b[1;30;43mg\u001b[m\u001b[1;30;43mm\u001b[m\u001b[1;30;43ma\u001b[m\u001b[1;30;43mi\u001b[m\u001b[1;30;43ml\u001b[m.\u001b[1;30;43mc\u001b[m\u001b[1;30;43mo\u001b[m\u001b[1;30;43mm\u001b[m \u001b[1;30;43mv\u001b[mà \u001b[1;30;43mc\u001b[mó \u001b[1;30;43mp\u001b[m\u001b[1;30;43mh\u001b[m\u001b[1;30;43mo\u001b[m\u001b[1;30;43mn\u001b[m\u001b[1;30;43me\u001b[m \u001b[1;30;43ml\u001b[mà \u001b[1;30;43m3\u001b[m\u001b[1;30;43m8\u001b[m\u001b[1;30;43m2\u001b[m-\u001b[1;30;43m3\u001b[m\u001b[1;30;43m8\u001b[m\u001b[1;30;43m4\u001b[m-\u001b[1;30;43m3\u001b[m\u001b[1;30;43m8\u001b[m\u001b[1;30;43m4\u001b[m\u001b[1;30;43m0\u001b[m.\\n\u001b[1;30;43mH\u001b[m\u001b[1;30;43mo\u001b[m\u001b[1;30;43ma\u001b[m \u001b[1;30;43mc\u001b[mó \u001b[1;30;43me\u001b[m\u001b[1;30;43mm\u001b[m\u001b[1;30;43ma\u001b[m\u001b[1;30;43mi\u001b[m\u001b[1;30;43ml\u001b[m \u001b[1;30;43ml\u001b[mà \u001b[1;30;43mh\u001b[m\u001b[1;30;43mo\u001b[m\u001b[1;30;43ma\u001b[m\u001b[1;30;43m4\u001b[m\u001b[1;30;43m5\u001b[m\u001b[1;30;43m6\u001b[m@\u001b[1;30;43my\u001b[m\u001b[1;30;43ma\u001b[m\u001b[1;30;43mh\u001b[m\u001b[1;30;43mo\u001b[m\u001b[1;30;43mo\u001b[m.\u001b[1;30;43mc\u001b[m\u001b[1;30;43mo\u001b[m\u001b[1;30;43mm\u001b[m \u001b[1;30;43mv\u001b[mà \u001b[1;30;43mc\u001b[mó \u001b[1;30;43mp\u001b[m\u001b[1;30;43mh\u001b[m\u001b[1;30;43mo\u001b[m\u001b[1;30;43mn\u001b[m\u001b[1;30;43me\u001b[m \u001b[1;30;43ml\u001b[mà \u001b[1;30;43m3\u001b[m\u001b[1;30;43m8\u001b[m\u001b[1;30;43m2\u001b[m-\u001b[1;30;43m3\u001b[m\u001b[1;30;43m8\u001b[m\u001b[1;30;43m4\u001b[m-\u001b[1;30;43m4\u001b[m\u001b[1;30;43m0\u001b[m\u001b[1;30;43m0\u001b[m\u001b[1;30;43m0\u001b[m.\n"
     ]
    }
   ],
   "source": [
    "text = '''\n",
    "Nam có email là nam123@gmail.com và có phone là 382-384-3840.\n",
    "Hoa có email là hoa456@yahoo.com và có phone là 382-384-4000.\n",
    "'''.strip()\n",
    "# Viết regex ứng với chuỗi gồm 1 ký tự trong tập gồm:\n",
    "# các ký tự chữ cái từ a đến z (cả viết thường lẫn viết hoa),\n",
    "# các ký tự số từ 0 đến 9\n",
    "# và ký tự _\n",
    "regex = r'[a-zA-Z0-9_]'\n",
    "# regex = r'\\w'\n",
    "show_regex_match(text, regex)"
   ]
  },
  {
   "cell_type": "code",
   "execution_count": 13,
   "metadata": {},
   "outputs": [
    {
     "name": "stdout",
     "output_type": "stream",
     "text": [
      "Nam có email là nam123@gmail.com và có phone là \u001b[1;30;43m382-384-3840\u001b[m.\\nHoa có email là hoa456@yahoo.com và có phone là \u001b[1;30;43m382-384-4000\u001b[m.\n"
     ]
    }
   ],
   "source": [
    "text = '''\n",
    "Nam có email là nam123@gmail.com và có phone là 382-384-3840.\n",
    "Hoa có email là hoa456@yahoo.com và có phone là 382-384-4000.\n",
    "'''.strip()\n",
    "# Dùng cú pháp \\d để viết regex ứng với các US phone\n",
    "regex = r'\\d\\d\\d-\\d\\d\\d-\\d\\d\\d\\d'\n",
    "show_regex_match(text, regex)"
   ]
  },
  {
   "cell_type": "code",
   "execution_count": 14,
   "metadata": {},
   "outputs": [
    {
     "name": "stdout",
     "output_type": "stream",
     "text": [
      "\u001b[1;30;43mN\u001b[m\u001b[1;30;43ma\u001b[m\u001b[1;30;43mm\u001b[m\u001b[1;30;43m \u001b[m\u001b[1;30;43mc\u001b[m\u001b[1;30;43mó\u001b[m\u001b[1;30;43m \u001b[m\u001b[1;30;43me\u001b[m\u001b[1;30;43mm\u001b[m\u001b[1;30;43ma\u001b[m\u001b[1;30;43mi\u001b[m\u001b[1;30;43ml\u001b[m\u001b[1;30;43m \u001b[m\u001b[1;30;43ml\u001b[m\u001b[1;30;43mà\u001b[m\u001b[1;30;43m \u001b[m\u001b[1;30;43mn\u001b[m\u001b[1;30;43ma\u001b[m\u001b[1;30;43mm\u001b[m\u001b[1;30;43m1\u001b[m\u001b[1;30;43m2\u001b[m\u001b[1;30;43m3\u001b[m\u001b[1;30;43m@\u001b[m\u001b[1;30;43mg\u001b[m\u001b[1;30;43mm\u001b[m\u001b[1;30;43ma\u001b[m\u001b[1;30;43mi\u001b[m\u001b[1;30;43ml\u001b[m\u001b[1;30;43m.\u001b[m\u001b[1;30;43mc\u001b[m\u001b[1;30;43mo\u001b[m\u001b[1;30;43mm\u001b[m\u001b[1;30;43m \u001b[m\u001b[1;30;43mv\u001b[m\u001b[1;30;43mà\u001b[m\u001b[1;30;43m \u001b[m\u001b[1;30;43mc\u001b[m\u001b[1;30;43mó\u001b[m\u001b[1;30;43m \u001b[m\u001b[1;30;43mp\u001b[m\u001b[1;30;43mh\u001b[m\u001b[1;30;43mo\u001b[m\u001b[1;30;43mn\u001b[m\u001b[1;30;43me\u001b[m\u001b[1;30;43m \u001b[m\u001b[1;30;43ml\u001b[m\u001b[1;30;43mà\u001b[m\u001b[1;30;43m \u001b[m\u001b[1;30;43m3\u001b[m\u001b[1;30;43m8\u001b[m\u001b[1;30;43m2\u001b[m\u001b[1;30;43m-\u001b[m\u001b[1;30;43m3\u001b[m\u001b[1;30;43m8\u001b[m\u001b[1;30;43m4\u001b[m\u001b[1;30;43m-\u001b[m\u001b[1;30;43m3\u001b[m\u001b[1;30;43m8\u001b[m\u001b[1;30;43m4\u001b[m\u001b[1;30;43m0\u001b[m\u001b[1;30;43m.\u001b[m\u001b[1;30;43m\\n\u001b[m\u001b[1;30;43mH\u001b[m\u001b[1;30;43mo\u001b[m\u001b[1;30;43ma\u001b[m\u001b[1;30;43m \u001b[m\u001b[1;30;43mc\u001b[m\u001b[1;30;43mó\u001b[m\u001b[1;30;43m \u001b[m\u001b[1;30;43me\u001b[m\u001b[1;30;43mm\u001b[m\u001b[1;30;43ma\u001b[m\u001b[1;30;43mi\u001b[m\u001b[1;30;43ml\u001b[m\u001b[1;30;43m \u001b[m\u001b[1;30;43ml\u001b[m\u001b[1;30;43mà\u001b[m\u001b[1;30;43m \u001b[m\u001b[1;30;43mh\u001b[m\u001b[1;30;43mo\u001b[m\u001b[1;30;43ma\u001b[m\u001b[1;30;43m4\u001b[m\u001b[1;30;43m5\u001b[m\u001b[1;30;43m6\u001b[m\u001b[1;30;43m@\u001b[m\u001b[1;30;43my\u001b[m\u001b[1;30;43ma\u001b[m\u001b[1;30;43mh\u001b[m\u001b[1;30;43mo\u001b[m\u001b[1;30;43mo\u001b[m\u001b[1;30;43m.\u001b[m\u001b[1;30;43mc\u001b[m\u001b[1;30;43mo\u001b[m\u001b[1;30;43mm\u001b[m\u001b[1;30;43m \u001b[m\u001b[1;30;43mv\u001b[m\u001b[1;30;43mà\u001b[m\u001b[1;30;43m \u001b[m\u001b[1;30;43mc\u001b[m\u001b[1;30;43mó\u001b[m\u001b[1;30;43m \u001b[m\u001b[1;30;43mp\u001b[m\u001b[1;30;43mh\u001b[m\u001b[1;30;43mo\u001b[m\u001b[1;30;43mn\u001b[m\u001b[1;30;43me\u001b[m\u001b[1;30;43m \u001b[m\u001b[1;30;43ml\u001b[m\u001b[1;30;43mà\u001b[m\u001b[1;30;43m \u001b[m\u001b[1;30;43m3\u001b[m\u001b[1;30;43m8\u001b[m\u001b[1;30;43m2\u001b[m\u001b[1;30;43m-\u001b[m\u001b[1;30;43m3\u001b[m\u001b[1;30;43m8\u001b[m\u001b[1;30;43m4\u001b[m\u001b[1;30;43m-\u001b[m\u001b[1;30;43m4\u001b[m\u001b[1;30;43m0\u001b[m\u001b[1;30;43m0\u001b[m\u001b[1;30;43m0\u001b[m\u001b[1;30;43m.\u001b[m\n"
     ]
    }
   ],
   "source": [
    "text = '''\n",
    "Nam có email là nam123@gmail.com và có phone là 382-384-3840.\n",
    "Hoa có email là hoa456@yahoo.com và có phone là 382-384-4000.\n",
    "'''.strip()\n",
    "# Đố: viết regex ứng với chuỗi gồm một ký tự bất kỳ\n",
    "regex = r'[\\d\\D]'\n",
    "show_regex_match(text, regex)"
   ]
  },
  {
   "cell_type": "markdown",
   "metadata": {},
   "source": [
    "## Quantifier\n"
   ]
  },
  {
   "cell_type": "code",
   "execution_count": 15,
   "metadata": {},
   "outputs": [
    {
     "name": "stdout",
     "output_type": "stream",
     "text": [
      "Nam có email là nam123@gmail.com và có phone là \u001b[1;30;43m382-384-3840\u001b[m.\\nHoa có email là hoa456@yahoo.com và có phone là \u001b[1;30;43m382-384-4000\u001b[m.\n"
     ]
    }
   ],
   "source": [
    "text = '''\n",
    "Nam có email là nam123@gmail.com và có phone là 382-384-3840.\n",
    "Hoa có email là hoa456@yahoo.com và có phone là 382-384-4000.\n",
    "'''.strip()\n",
    "# Dùng cú pháp \\d & quantifier để viết regex ứng với các US phone\n",
    "regex = r'\\d{3}-\\d{3}-\\d{4}'\n",
    "show_regex_match(text, regex)"
   ]
  },
  {
   "cell_type": "code",
   "execution_count": 16,
   "metadata": {},
   "outputs": [
    {
     "name": "stdout",
     "output_type": "stream",
     "text": [
      "Nam có email là nam\u001b[1;30;43m123@gmail.com và có phone là 382-384-3\u001b[m840.\\nHoa có email là hoa456@yahoo.com và có phone là 382-384-4000.\n"
     ]
    }
   ],
   "source": [
    "# Tính greedy của quantifier\n",
    "text = '''\n",
    "Nam có email là nam123@gmail.com và có phone là 382-384-3840.\n",
    "Hoa có email là hoa456@yahoo.com và có phone là 382-384-4000.\n",
    "'''.strip()\n",
    "regex = r'1.+3'\n",
    "show_regex_match(text, regex)"
   ]
  },
  {
   "cell_type": "markdown",
   "metadata": {},
   "source": [
    "## Group "
   ]
  },
  {
   "cell_type": "code",
   "execution_count": 17,
   "metadata": {},
   "outputs": [
    {
     "name": "stdout",
     "output_type": "stream",
     "text": [
      "Nam có email là nam123@gmail.com và có phone là \u001b[1;30;43m382-384-3840\u001b[m.\\nHoa có email là hoa456@yahoo.com và có phone là \u001b[1;30;43m382-384-4000\u001b[m.\n"
     ]
    }
   ],
   "source": [
    "text = '''\n",
    "Nam có email là nam123@gmail.com và có phone là 382-384-3840.\n",
    "Hoa có email là hoa456@yahoo.com và có phone là 382-384-4000.\n",
    "'''.strip()\n",
    "# Dùng cú pháp \\d & quantifier & group để viết regex ứng với các US phone\n",
    "regex = r'(\\d{3}-){2}\\d{4}'\n",
    "show_regex_match(text, regex)"
   ]
  },
  {
   "cell_type": "markdown",
   "metadata": {},
   "source": [
    "## Anchor"
   ]
  },
  {
   "cell_type": "code",
   "execution_count": 18,
   "metadata": {},
   "outputs": [
    {
     "name": "stdout",
     "output_type": "stream",
     "text": [
      "Nam có email là nam123@gmail.com và có phone là 382-384-3840.\\nHoa có email là hoa456@yahoo.com và có phone là 382-384-4000.\n"
     ]
    }
   ],
   "source": [
    "text = '''\n",
    "Nam có email là nam123@gmail.com và có phone là 382-384-3840.\n",
    "Hoa có email là hoa456@yahoo.com và có phone là 382-384-4000.\n",
    "'''.strip()\n",
    "# Viết regex ứng với chuỗi con \"email\" ở đầu chuỗi\n",
    "regex = r'^email'\n",
    "show_regex_match(text, regex)"
   ]
  },
  {
   "cell_type": "code",
   "execution_count": 19,
   "metadata": {},
   "outputs": [
    {
     "name": "stdout",
     "output_type": "stream",
     "text": [
      "Nam có email là nam123@gmail.com và có phone là 382-384-3840.\\nHoa có email là hoa456@yahoo.com và có phone là 382-384-4000\n"
     ]
    }
   ],
   "source": [
    "text = '''\n",
    "Nam có email là nam123@gmail.com và có phone là 382-384-3840.\n",
    "Hoa có email là hoa456@yahoo.com và có phone là 382-384-4000\n",
    "'''.strip()\n",
    "# Viết regex ứng với chuỗi con \".\" ở cuối chuỗi\n",
    "regex = r'\\.$'\n",
    "show_regex_match(text, regex)"
   ]
  },
  {
   "cell_type": "code",
   "execution_count": 20,
   "metadata": {},
   "outputs": [
    {
     "name": "stdout",
     "output_type": "stream",
     "text": [
      "Nam có \u001b[1;30;43me\u001b[mmail là nam123@gmail.com và có phone là 382-384-3840.\\nHoa có \u001b[1;30;43me\u001b[mmail là hoa456@yahoo.com và có phone là 382-384-4000.\n"
     ]
    }
   ],
   "source": [
    "text = '''\n",
    "Nam có email là nam123@gmail.com và có phone là 382-384-3840.\n",
    "Hoa có email là hoa456@yahoo.com và có phone là 382-384-4000.\n",
    "'''.strip()\n",
    "# Viết regex ứng với chuỗi con \"e\" ở đầu từ\n",
    "regex = r'\\be'\n",
    "show_regex_match(text, regex)"
   ]
  },
  {
   "cell_type": "markdown",
   "metadata": {},
   "source": [
    "## Or "
   ]
  },
  {
   "cell_type": "code",
   "execution_count": 21,
   "metadata": {
    "scrolled": true
   },
   "outputs": [
    {
     "name": "stdout",
     "output_type": "stream",
     "text": [
      "Nam có email là \u001b[1;30;43mnam123@gmail.com\u001b[m và có phone là 382-384-3840.\\nHoa có email là \u001b[1;30;43mhoa456@yahoo.com\u001b[m và có phone là 382-384-4000.\n"
     ]
    }
   ],
   "source": [
    "text = '''\n",
    "Nam có email là nam123@gmail.com và có phone là 382-384-3840.\n",
    "Hoa có email là hoa456@yahoo.com và có phone là 382-384-4000.\n",
    "'''.strip()\n",
    "# Viết regex ứng với các email đuôi gmail hoặc yahoo\n",
    "regex = r'\\w+@(gmail|yahoo)\\.com'\n",
    "show_regex_match(text, regex)"
   ]
  },
  {
   "cell_type": "markdown",
   "metadata": {},
   "source": [
    "# Regex trong Python"
   ]
  },
  {
   "cell_type": "code",
   "execution_count": 22,
   "metadata": {
    "scrolled": true
   },
   "outputs": [
    {
     "data": {
      "text/plain": [
       "<re.Match object; span=(16, 32), match='nam123@gmail.com'>"
      ]
     },
     "execution_count": 22,
     "metadata": {},
     "output_type": "execute_result"
    }
   ],
   "source": [
    "text = '''\n",
    "Nam có email là nam123@gmail.com và có phone là 382-384-3840.\n",
    "Hoa có email là hoa456@yahoo.com và có phone là 382-384-4000.\n",
    "'''.strip()\n",
    "regex = r'(\\w+)@(gmail|yahoo)\\.com'\n",
    "match = re.search(regex, text)\n",
    "match"
   ]
  },
  {
   "cell_type": "code",
   "execution_count": 23,
   "metadata": {},
   "outputs": [
    {
     "data": {
      "text/plain": [
       "'nam123@gmail.com'"
      ]
     },
     "execution_count": 23,
     "metadata": {},
     "output_type": "execute_result"
    }
   ],
   "source": [
    "text[16:32]"
   ]
  },
  {
   "cell_type": "code",
   "execution_count": 24,
   "metadata": {},
   "outputs": [
    {
     "data": {
      "text/plain": [
       "'nam123@gmail.com'"
      ]
     },
     "execution_count": 24,
     "metadata": {},
     "output_type": "execute_result"
    }
   ],
   "source": [
    "match.group(0)"
   ]
  },
  {
   "cell_type": "code",
   "execution_count": 25,
   "metadata": {},
   "outputs": [
    {
     "data": {
      "text/plain": [
       "'nam123'"
      ]
     },
     "execution_count": 25,
     "metadata": {},
     "output_type": "execute_result"
    }
   ],
   "source": [
    "match.group(1)"
   ]
  },
  {
   "cell_type": "code",
   "execution_count": 26,
   "metadata": {},
   "outputs": [
    {
     "data": {
      "text/plain": [
       "'gmail'"
      ]
     },
     "execution_count": 26,
     "metadata": {},
     "output_type": "execute_result"
    }
   ],
   "source": [
    "match.group(2)"
   ]
  },
  {
   "cell_type": "code",
   "execution_count": null,
   "metadata": {},
   "outputs": [],
   "source": []
  },
  {
   "cell_type": "code",
   "execution_count": 27,
   "metadata": {
    "scrolled": true
   },
   "outputs": [
    {
     "name": "stdout",
     "output_type": "stream",
     "text": [
      "<re.Match object; span=(16, 32), match='nam123@gmail.com'>\n",
      "<re.Match object; span=(78, 94), match='hoa456@yahoo.com'>\n"
     ]
    }
   ],
   "source": [
    "text = '''\n",
    "Nam có email là nam123@gmail.com và có phone là 382-384-3840.\n",
    "Hoa có email là hoa456@yahoo.com và có phone là 382-384-4000.\n",
    "'''.strip()\n",
    "regex = r'(\\w+)@(gmail|yahoo)\\.com'\n",
    "matches = re.finditer(regex, text)\n",
    "for match in matches:\n",
    "    print(match)"
   ]
  },
  {
   "cell_type": "code",
   "execution_count": null,
   "metadata": {},
   "outputs": [],
   "source": []
  },
  {
   "cell_type": "code",
   "execution_count": 28,
   "metadata": {
    "scrolled": true
   },
   "outputs": [
    {
     "data": {
      "text/plain": [
       "[('nam123', 'gmail'), ('hoa456', 'yahoo')]"
      ]
     },
     "execution_count": 28,
     "metadata": {},
     "output_type": "execute_result"
    }
   ],
   "source": [
    "text = '''\n",
    "Nam có email là nam123@gmail.com và có phone là 382-384-3840.\n",
    "Hoa có email là hoa456@yahoo.com và có phone là 382-384-4000.\n",
    "'''.strip()\n",
    "regex = r'(\\w+)@(gmail|yahoo)\\.com'\n",
    "matches = re.findall(regex, text)\n",
    "matches"
   ]
  },
  {
   "cell_type": "code",
   "execution_count": 29,
   "metadata": {
    "scrolled": true
   },
   "outputs": [
    {
     "data": {
      "text/plain": [
       "['nam123@', 'hoa456@']"
      ]
     },
     "execution_count": 29,
     "metadata": {},
     "output_type": "execute_result"
    }
   ],
   "source": [
    "text = '''\n",
    "Nam có email là nam123@gmail.com và có phone là 382-384-3840.\n",
    "Hoa có email là hoa456@yahoo.com và có phone là 382-384-4000.\n",
    "'''.strip()\n",
    "regex = r'\\w+@' # Không có group\n",
    "matches = re.findall(regex, text)\n",
    "matches"
   ]
  },
  {
   "cell_type": "code",
   "execution_count": null,
   "metadata": {},
   "outputs": [],
   "source": []
  },
  {
   "cell_type": "code",
   "execution_count": 30,
   "metadata": {},
   "outputs": [
    {
     "data": {
      "text/plain": [
       "'1/1/2021, 5/1/2021, 3/1/2021, 4/1/2021'"
      ]
     },
     "execution_count": 30,
     "metadata": {},
     "output_type": "execute_result"
    }
   ],
   "source": [
    "text = '1/1/2021, 5-1-2021, 3.1.2021, 4*1*2021'\n",
    "# text.replace('-', '/').replace('.', '/').replace('*', '/')\n",
    "re.sub(r'[-.*]', '/', text)"
   ]
  },
  {
   "cell_type": "code",
   "execution_count": null,
   "metadata": {},
   "outputs": [],
   "source": []
  },
  {
   "cell_type": "code",
   "execution_count": 31,
   "metadata": {},
   "outputs": [
    {
     "name": "stdout",
     "output_type": "stream",
     "text": [
      "['Chương 1: C', '01']\n",
      "['Chương 2: C++', '05']\n",
      "['Chương 3: Python', '10']\n"
     ]
    }
   ],
   "source": [
    "text = '''\n",
    "Chương 1: C..............01\n",
    "Chương 2: C++............05\n",
    "Chương 3: Python.........10\n",
    "'''.strip()\n",
    "\n",
    "lines = text.split('\\n')\n",
    "for line in lines:\n",
    "    print(re.split(r'\\.+', line))"
   ]
  },
  {
   "cell_type": "code",
   "execution_count": null,
   "metadata": {},
   "outputs": [],
   "source": []
  },
  {
   "cell_type": "code",
   "execution_count": 32,
   "metadata": {
    "scrolled": true
   },
   "outputs": [
    {
     "data": {
      "text/plain": [
       "['Nam', 'nam']"
      ]
     },
     "execution_count": 32,
     "metadata": {},
     "output_type": "execute_result"
    }
   ],
   "source": [
    "text = '''\n",
    "Nam có email là nam123@gmail.com và có phone là 382-384-3840.\n",
    "Hoa có email là hoa456@yahoo.com và có phone là 382-384-4000.\n",
    "'''.strip()\n",
    "regex = r'nam'\n",
    "matches = re.findall(regex, text, re.IGNORECASE)\n",
    "matches"
   ]
  }
 ],
 "metadata": {
  "kernelspec": {
   "display_name": "Python 3 (ipykernel)",
   "language": "python",
   "name": "python3"
  },
  "language_info": {
   "codemirror_mode": {
    "name": "ipython",
    "version": 3
   },
   "file_extension": ".py",
   "mimetype": "text/x-python",
   "name": "python",
   "nbconvert_exporter": "python",
   "pygments_lexer": "ipython3",
   "version": "3.8.8"
  },
  "toc": {
   "base_numbering": 1,
   "nav_menu": {},
   "number_sections": true,
   "sideBar": true,
   "skip_h1_title": false,
   "title_cell": "Table of Contents",
   "title_sidebar": "Contents",
   "toc_cell": false,
   "toc_position": {},
   "toc_section_display": true,
   "toc_window_display": false
  }
 },
 "nbformat": 4,
 "nbformat_minor": 4
}
